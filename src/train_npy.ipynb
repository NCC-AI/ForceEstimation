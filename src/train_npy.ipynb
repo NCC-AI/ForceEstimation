{
 "cells": [
  {
   "cell_type": "code",
   "execution_count": 1,
   "metadata": {},
   "outputs": [
    {
     "name": "stderr",
     "output_type": "stream",
     "text": [
      "Using TensorFlow backend.\n"
     ]
    }
   ],
   "source": [
    "import sys\n",
    "import os\n",
    "import csv\n",
    "import random\n",
    "from keras.layers import *\n",
    "from keras.optimizers import *\n",
    "from keras.applications import *\n",
    "from keras.models import Model\n",
    "from keras.preprocessing.image import ImageDataGenerator\n",
    "from keras.callbacks import ModelCheckpoint, EarlyStopping\n",
    "from keras import backend as k\n",
    "from keras.preprocessing.image import load_img, img_to_array\n",
    "from keras import backend as K\n",
    "import tensorflow as tf\n",
    "from keras.backend.tensorflow_backend import set_session\n",
    "from force_utils import DataProcessing"
   ]
  },
  {
   "cell_type": "code",
   "execution_count": 2,
   "metadata": {},
   "outputs": [],
   "source": [
    "# -------------------------------------------------------------------------------------\n",
    "# DATASET\n",
    "# -------------------------------------------------------------------------------------\n",
    "\n",
    "# Input\n",
    "x_train = np.load('./dataset/features/dense_train.npy')\n",
    "x_test = np.load('./dataset/features/dense_val.npy')\n",
    "\n",
    "dataset = DataProcessing('./dataset/video.mp4', './dataset/forceinfo.csv', p=True, f=True, name=False)\n",
    "\n",
    "# Split train and validation\n",
    "keys = list(dataset.f_dict.keys())\n",
    "values = list(dataset.f_dict.values())\n",
    "train_num = int(round(0.8 * len(keys)))"
   ]
  },
  {
   "cell_type": "code",
   "execution_count": 3,
   "metadata": {},
   "outputs": [
    {
     "name": "stdout",
     "output_type": "stream",
     "text": [
      "(45280, 9, 9, 1024) (11296, 9, 9, 1024) 56602 56602 45282\n"
     ]
    }
   ],
   "source": [
    "print(x_train.shape, x_test.shape, len(keys), len(values), train_num)"
   ]
  },
  {
   "cell_type": "code",
   "execution_count": 4,
   "metadata": {
    "scrolled": true
   },
   "outputs": [],
   "source": [
    "y_train = values[:train_num-2]\n",
    "y_test = values[train_num:-24]"
   ]
  },
  {
   "cell_type": "code",
   "execution_count": null,
   "metadata": {},
   "outputs": [],
   "source": [
    "# Target\n",
    "y_train = values[:train_num]\n",
    "for x in values[:30]:\n",
    "    y_train.append(x)\n",
    "#y_train = np.array(y_train) / np.max(values)\n",
    "\n",
    "y_test = values[train_num:]\n",
    "for x in values[train_num:][:8]:\n",
    "    y_test.append(x)\n",
    "#y_test = np.array(y_test) / np.max(values)"
   ]
  },
  {
   "cell_type": "code",
   "execution_count": 5,
   "metadata": {},
   "outputs": [],
   "source": [
    "# -------------------------------------------------------------------------------------\n",
    "# VARIABLE\n",
    "# -------------------------------------------------------------------------------------\n",
    "\n",
    "input_shape = (299, 299, 3)\n",
    "batch_size = 32\n",
    "epochs = 100\n",
    "learning_rate = 0.01"
   ]
  },
  {
   "cell_type": "code",
   "execution_count": 6,
   "metadata": {},
   "outputs": [],
   "source": [
    "# -------------------------------------------------------------------------------------\n",
    "# MODEL\n",
    "# -------------------------------------------------------------------------------------\n",
    "\n",
    "input_tensor = Input(shape=x_train.shape[1:])\n",
    "x = Flatten(input_shape=x_train.shape[1:])(input_tensor)\n",
    "x = Dense(512, activation='relu')(x)\n",
    "x = Dense(256, activation='relu')(x)\n",
    "x = Dropout(0.5)(x)\n",
    "prediction = Dense(1)(x)\n",
    "model = Model(inputs=input_tensor, outputs=prediction)"
   ]
  },
  {
   "cell_type": "code",
   "execution_count": 7,
   "metadata": {},
   "outputs": [],
   "source": [
    "# -------------------------------------------------------------------------------------\n",
    "# COMPILE\n",
    "# -------------------------------------------------------------------------------------\n",
    "\n",
    "# Optimizer\n",
    "optim = RMSprop(lr=0.001, rho=0.9, epsilon=None, decay=0.0)\n",
    "\n",
    "# Learning rate scheduler\n",
    "def schedule(epoch, decay=0.9):\n",
    "    return learning_rate * decay**(epoch)\n",
    "\n",
    "# Callbacks\n",
    "callbacks = [\n",
    "    ModelCheckpoint('dataset/weights/dense_{epoch:02d}.h5', monitor='val_loss', verbose=1, save_best_only=True),\n",
    "    EarlyStopping(monitor='val_loss', min_delta=0, patience=5, verbose=1, mode='auto')]\n",
    "    # LearningRateScheduler(schedule)]\n",
    "\n",
    "# Compile\n",
    "model.compile(optimizer=optim, loss='mean_absolute_error')"
   ]
  },
  {
   "cell_type": "code",
   "execution_count": null,
   "metadata": {},
   "outputs": [
    {
     "name": "stdout",
     "output_type": "stream",
     "text": [
      "Train on 45280 samples, validate on 11296 samples\n",
      "Epoch 1/100\n",
      "45280/45280 [==============================] - 40s 885us/step - loss: 1.4815 - val_loss: 0.4126\n",
      "\n",
      "Epoch 00001: val_loss improved from inf to 0.41256, saving model to dataset/weights/dense_01.h5\n",
      "Epoch 2/100\n",
      "45280/45280 [==============================] - 28s 628us/step - loss: 0.3541 - val_loss: 0.4440\n",
      "\n",
      "Epoch 00002: val_loss did not improve from 0.41256\n",
      "Epoch 3/100\n",
      "45280/45280 [==============================] - 30s 659us/step - loss: 0.3240 - val_loss: 0.4094\n",
      "\n",
      "Epoch 00003: val_loss improved from 0.41256 to 0.40940, saving model to dataset/weights/dense_03.h5\n",
      "Epoch 4/100\n",
      "45280/45280 [==============================] - 29s 631us/step - loss: 0.2976 - val_loss: 0.3955\n",
      "\n",
      "Epoch 00004: val_loss improved from 0.40940 to 0.39549, saving model to dataset/weights/dense_04.h5\n",
      "Epoch 5/100\n",
      "45280/45280 [==============================] - 30s 661us/step - loss: 0.2789 - val_loss: 0.4249\n",
      "\n",
      "Epoch 00005: val_loss did not improve from 0.39549\n",
      "Epoch 6/100\n",
      "45280/45280 [==============================] - 28s 628us/step - loss: 0.2621 - val_loss: 0.4390\n",
      "\n",
      "Epoch 00006: val_loss did not improve from 0.39549\n",
      "Epoch 7/100\n",
      "45280/45280 [==============================] - 30s 660us/step - loss: 0.2479 - val_loss: 0.4058\n",
      "\n",
      "Epoch 00007: val_loss did not improve from 0.39549\n",
      "Epoch 8/100\n",
      "45280/45280 [==============================] - 29s 633us/step - loss: 0.2388 - val_loss: 0.4018\n",
      "\n",
      "Epoch 00008: val_loss did not improve from 0.39549\n",
      "Epoch 9/100\n",
      "45280/45280 [==============================] - 30s 660us/step - loss: 0.2270 - val_loss: 0.3880\n",
      "\n",
      "Epoch 00009: val_loss improved from 0.39549 to 0.38803, saving model to dataset/weights/dense_09.h5\n",
      "Epoch 10/100\n",
      "45280/45280 [==============================] - 29s 631us/step - loss: 0.2247 - val_loss: 0.3988\n",
      "\n",
      "Epoch 00010: val_loss did not improve from 0.38803\n",
      "Epoch 11/100\n",
      "45280/45280 [==============================] - 30s 661us/step - loss: 0.2204 - val_loss: 0.4163\n",
      "\n",
      "Epoch 00011: val_loss did not improve from 0.38803\n",
      "Epoch 12/100\n",
      "45280/45280 [==============================] - 29s 631us/step - loss: 0.2188 - val_loss: 0.4263\n",
      "\n",
      "Epoch 00012: val_loss did not improve from 0.38803\n",
      "Epoch 13/100\n",
      "45280/45280 [==============================] - 30s 662us/step - loss: 0.2107 - val_loss: 0.4299\n",
      "\n",
      "Epoch 00013: val_loss did not improve from 0.38803\n",
      "Epoch 14/100\n",
      "  320/45280 [..............................] - ETA: 25s - loss: 0.2248"
     ]
    }
   ],
   "source": [
    "# -------------------------------------------------------------------------------------\n",
    "# FIT\n",
    "# -------------------------------------------------------------------------------------\n",
    "\n",
    "history = model.fit(\n",
    "    x_train, y_train,\n",
    "    batch_size=batch_size,\n",
    "    epochs=epochs,\n",
    "    callbacks=callbacks,\n",
    "    validation_data=(x_test, y_test)\n",
    ")\n",
    "\n",
    "save_history(history, 'dataset/history/dense.txt')"
   ]
  },
  {
   "cell_type": "code",
   "execution_count": null,
   "metadata": {},
   "outputs": [],
   "source": []
  }
 ],
 "metadata": {
  "kernelspec": {
   "display_name": "Python 3",
   "language": "python",
   "name": "python3"
  },
  "language_info": {
   "codemirror_mode": {
    "name": "ipython",
    "version": 3
   },
   "file_extension": ".py",
   "mimetype": "text/x-python",
   "name": "python",
   "nbconvert_exporter": "python",
   "pygments_lexer": "ipython3",
   "version": "3.6.4"
  }
 },
 "nbformat": 4,
 "nbformat_minor": 2
}
