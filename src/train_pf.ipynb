{
 "cells": [
  {
   "cell_type": "code",
   "execution_count": 1,
   "metadata": {},
   "outputs": [
    {
     "name": "stderr",
     "output_type": "stream",
     "text": [
      "Using TensorFlow backend.\n"
     ]
    }
   ],
   "source": [
    "import sys\n",
    "import os\n",
    "import csv\n",
    "import random\n",
    "from keras.layers import *\n",
    "from keras.optimizers import *\n",
    "from keras.applications import *\n",
    "from keras.models import Model\n",
    "from keras.preprocessing.image import ImageDataGenerator\n",
    "from keras.callbacks import ModelCheckpoint, EarlyStopping\n",
    "from keras import backend as k\n",
    "from keras.preprocessing.image import load_img, img_to_array\n",
    "from keras import backend as K\n",
    "import tensorflow as tf\n",
    "from keras.backend.tensorflow_backend import set_session\n",
    "from force_utils import DataProcessing"
   ]
  },
  {
   "cell_type": "code",
   "execution_count": 2,
   "metadata": {},
   "outputs": [],
   "source": [
    "import pandas as pd"
   ]
  },
  {
   "cell_type": "code",
   "execution_count": 3,
   "metadata": {},
   "outputs": [],
   "source": [
    "csv_file = 'dataset/forceinfo.csv'\n",
    "df = pd.read_csv(csv_file)\n",
    "truncation = -7\n",
    "df_time = df['Time'].as_matrix()[:truncation]\n",
    "df_target = df.drop([\"Time\"], axis=1).as_matrix()[:truncation]"
   ]
  },
  {
   "cell_type": "code",
   "execution_count": 4,
   "metadata": {},
   "outputs": [],
   "source": [
    "target = df_target.copy()"
   ]
  },
  {
   "cell_type": "code",
   "execution_count": 17,
   "metadata": {},
   "outputs": [],
   "source": [
    "train_num = int(round(0.8 * len(target)))\n",
    "y_train = target[:train_num]\n",
    "y_test = target[train_num:]"
   ]
  },
  {
   "cell_type": "code",
   "execution_count": 18,
   "metadata": {},
   "outputs": [
    {
     "name": "stdout",
     "output_type": "stream",
     "text": [
      "(45289, 6) (11322, 6) 56611\n"
     ]
    }
   ],
   "source": [
    "print(y_train.shape, y_test.shape, y_train.shape[0]+y_test.shape[0])"
   ]
  },
  {
   "cell_type": "code",
   "execution_count": 11,
   "metadata": {},
   "outputs": [],
   "source": [
    "x_train = np.load('./dataset/features/vgg16_train.npy')\n",
    "x_test = np.load('./dataset/features/vgg16_val.npy')"
   ]
  },
  {
   "cell_type": "code",
   "execution_count": 12,
   "metadata": {},
   "outputs": [
    {
     "name": "stdout",
     "output_type": "stream",
     "text": [
      "(45312, 9, 9, 512) (11328, 9, 9, 512) 56640\n"
     ]
    }
   ],
   "source": [
    "print(x_train.shape, x_test.shape, x_train.shape[0]+x_test.shape[0])"
   ]
  },
  {
   "cell_type": "code",
   "execution_count": 19,
   "metadata": {},
   "outputs": [
    {
     "name": "stdout",
     "output_type": "stream",
     "text": [
      "(45289, 9, 9, 512) (11322, 9, 9, 512) 56611\n"
     ]
    }
   ],
   "source": [
    "x_train = x_train[:-23]\n",
    "x_test = x_test[:-6]\n",
    "print(x_train.shape, x_test.shape, x_train.shape[0]+x_test.shape[0])"
   ]
  },
  {
   "cell_type": "code",
   "execution_count": 20,
   "metadata": {},
   "outputs": [],
   "source": [
    "# -------------------------------------------------------------------------------------\n",
    "# VARIABLE\n",
    "# -------------------------------------------------------------------------------------\n",
    "\n",
    "input_shape = (299, 299, 3)\n",
    "batch_size = 32\n",
    "epochs = 100\n",
    "learning_rate = 0.01"
   ]
  },
  {
   "cell_type": "code",
   "execution_count": 21,
   "metadata": {},
   "outputs": [],
   "source": [
    "# -------------------------------------------------------------------------------------\n",
    "# MODEL\n",
    "# -------------------------------------------------------------------------------------\n",
    "\n",
    "input_tensor = Input(shape=x_train.shape[1:])\n",
    "x = Flatten(input_shape=x_train.shape[1:])(input_tensor)\n",
    "x = Dense(512, activation='relu')(x)\n",
    "x = Dense(256, activation='relu')(x)\n",
    "x = Dropout(0.5)(x)\n",
    "prediction = Dense(6)(x)\n",
    "model = Model(inputs=input_tensor, outputs=prediction)"
   ]
  },
  {
   "cell_type": "code",
   "execution_count": 22,
   "metadata": {},
   "outputs": [],
   "source": [
    "# -------------------------------------------------------------------------------------\n",
    "# COMPILE\n",
    "# -------------------------------------------------------------------------------------\n",
    "\n",
    "# Optimizer\n",
    "optim = RMSprop(lr=0.001, rho=0.9, epsilon=None, decay=0.0)\n",
    "\n",
    "# Learning rate scheduler\n",
    "def schedule(epoch, decay=0.9):\n",
    "    return learning_rate * decay**(epoch)\n",
    "\n",
    "# Callbacks\n",
    "callbacks = [\n",
    "    ModelCheckpoint('dataset/weights/six_{epoch:02d}.h5', monitor='val_loss', verbose=1, save_best_only=True),\n",
    "    EarlyStopping(monitor='val_loss', min_delta=0, patience=5, verbose=1, mode='auto')]\n",
    "    # LearningRateScheduler(schedule)]\n",
    "\n",
    "# Compile\n",
    "model.compile(optimizer=optim, loss='mean_squared_error')"
   ]
  },
  {
   "cell_type": "code",
   "execution_count": 23,
   "metadata": {},
   "outputs": [
    {
     "name": "stdout",
     "output_type": "stream",
     "text": [
      "Train on 45289 samples, validate on 11322 samples\n",
      "Epoch 1/100\n",
      "45289/45289 [==============================] - 24s 527us/step - loss: 1.8340 - val_loss: 0.1338\n",
      "\n",
      "Epoch 00001: val_loss improved from inf to 0.13382, saving model to dataset/weights/six_01.h5\n",
      "Epoch 2/100\n",
      "45289/45289 [==============================] - 23s 507us/step - loss: 0.1668 - val_loss: 0.0970\n",
      "\n",
      "Epoch 00002: val_loss improved from 0.13382 to 0.09702, saving model to dataset/weights/six_02.h5\n",
      "Epoch 3/100\n",
      "45289/45289 [==============================] - 23s 507us/step - loss: 0.1374 - val_loss: 0.1215\n",
      "\n",
      "Epoch 00003: val_loss did not improve from 0.09702\n",
      "Epoch 4/100\n",
      "45289/45289 [==============================] - 23s 509us/step - loss: 0.1219 - val_loss: 0.0943\n",
      "\n",
      "Epoch 00004: val_loss improved from 0.09702 to 0.09429, saving model to dataset/weights/six_04.h5\n",
      "Epoch 5/100\n",
      "45289/45289 [==============================] - 23s 508us/step - loss: 0.1071 - val_loss: 0.1195\n",
      "\n",
      "Epoch 00005: val_loss did not improve from 0.09429\n",
      "Epoch 6/100\n",
      "45289/45289 [==============================] - 23s 510us/step - loss: 0.0951 - val_loss: 0.1204\n",
      "\n",
      "Epoch 00006: val_loss did not improve from 0.09429\n",
      "Epoch 7/100\n",
      "45289/45289 [==============================] - 23s 507us/step - loss: 0.0867 - val_loss: 0.1271\n",
      "\n",
      "Epoch 00007: val_loss did not improve from 0.09429\n",
      "Epoch 8/100\n",
      "45289/45289 [==============================] - 23s 508us/step - loss: 0.0777 - val_loss: 0.1075\n",
      "\n",
      "Epoch 00008: val_loss did not improve from 0.09429\n",
      "Epoch 9/100\n",
      "45289/45289 [==============================] - 23s 508us/step - loss: 0.0690 - val_loss: 0.1175\n",
      "\n",
      "Epoch 00009: val_loss did not improve from 0.09429\n",
      "Epoch 00009: early stopping\n"
     ]
    },
    {
     "ename": "NameError",
     "evalue": "name 'save_history' is not defined",
     "output_type": "error",
     "traceback": [
      "\u001b[0;31m---------------------------------------------------------------------------\u001b[0m",
      "\u001b[0;31mNameError\u001b[0m                                 Traceback (most recent call last)",
      "\u001b[0;32m<ipython-input-23-3e630de6010b>\u001b[0m in \u001b[0;36m<module>\u001b[0;34m()\u001b[0m\n\u001b[1;32m     11\u001b[0m )\n\u001b[1;32m     12\u001b[0m \u001b[0;34m\u001b[0m\u001b[0m\n\u001b[0;32m---> 13\u001b[0;31m \u001b[0msave_history\u001b[0m\u001b[0;34m(\u001b[0m\u001b[0mhistory\u001b[0m\u001b[0;34m,\u001b[0m \u001b[0;34m'dataset/history/six.txt'\u001b[0m\u001b[0;34m)\u001b[0m\u001b[0;34m\u001b[0m\u001b[0m\n\u001b[0m",
      "\u001b[0;31mNameError\u001b[0m: name 'save_history' is not defined"
     ]
    }
   ],
   "source": [
    "# -------------------------------------------------------------------------------------\n",
    "# FIT\n",
    "# -------------------------------------------------------------------------------------\n",
    "\n",
    "history = model.fit(\n",
    "    x_train, y_train,\n",
    "    batch_size=batch_size,\n",
    "    epochs=epochs,\n",
    "    callbacks=callbacks,\n",
    "    validation_data=(x_test, y_test)\n",
    ")"
   ]
  },
  {
   "cell_type": "code",
   "execution_count": null,
   "metadata": {},
   "outputs": [],
   "source": []
  }
 ],
 "metadata": {
  "kernelspec": {
   "display_name": "Python 3",
   "language": "python",
   "name": "python3"
  },
  "language_info": {
   "codemirror_mode": {
    "name": "ipython",
    "version": 3
   },
   "file_extension": ".py",
   "mimetype": "text/x-python",
   "name": "python",
   "nbconvert_exporter": "python",
   "pygments_lexer": "ipython3",
   "version": "3.6.4"
  }
 },
 "nbformat": 4,
 "nbformat_minor": 2
}
