{
 "cells": [
  {
   "cell_type": "code",
   "execution_count": 58,
   "metadata": {},
   "outputs": [],
   "source": [
    "import os\n",
    "import sys\n",
    "import cv2\n",
    "import pickle\n",
    "import numpy as np\n",
    "from PIL import Image\n",
    "import matplotlib.pyplot as plt\n",
    "from keras.models import Model\n",
    "from keras.layers import Flatten, Dense, Dropout, Input\n",
    "from keras.applications.vgg16 import VGG16\n",
    "from force_utils import database, show_history"
   ]
  },
  {
   "cell_type": "code",
   "execution_count": 59,
   "metadata": {},
   "outputs": [],
   "source": [
    "dataset = database('dataset/movie.mp4', 'dataset/forceinfo.csv')\n",
    "force = dataset.make_tension()\n",
    "frame_id, frames = dataset.make_inputs()\n",
    "force_dic = {}\n",
    "for i in range(len(frames)):\n",
    "    force_dic[frame_id[i]] = force[i]\n",
    "keys = list(force_dic.keys())\n",
    "split_num = int(round(0.8 * len(keys)))\n",
    "start_frame = keys[split_num]\n",
    "max_frame = dataset.frame_count"
   ]
  },
  {
   "cell_type": "code",
   "execution_count": 60,
   "metadata": {},
   "outputs": [],
   "source": [
    "input_shape = (299, 299, 3)\n",
    "base_model = VGG16(include_top=False, weights='imagenet', input_tensor=Input(shape=input_shape))\n",
    "x = base_model.output\n",
    "x = Flatten(input_shape=base_model.output_shape[1:])(x)\n",
    "x = Dense(512, activation='relu')(x)\n",
    "x = Dense(256, activation='relu')(x)\n",
    "x = Dropout(0.5)(x)\n",
    "prediction = Dense(1)(x)\n",
    "\n",
    "model = Model(inputs=base_model.input, outputs=prediction)\n",
    "model.load_weights('dataset/weights/weights_02.h5')"
   ]
  },
  {
   "cell_type": "code",
   "execution_count": 61,
   "metadata": {},
   "outputs": [],
   "source": [
    "font = cv2.FONT_HERSHEY_SIMPLEX"
   ]
  },
  {
   "cell_type": "code",
   "execution_count": 66,
   "metadata": {},
   "outputs": [],
   "source": [
    "class MovieProcess:\n",
    "\n",
    "    # 動画保存の初期設定を行う\n",
    "    def __init__(self, movie_file, target_dir, duration_second):\n",
    "        self.movie_file = movie_file\n",
    "        self.target_dir = target_dir\n",
    "        self.video = cv2.VideoCapture(movie_file)\n",
    "        self.fourcc = cv2.VideoWriter_fourcc('m', 'p', '4', 'v')\n",
    "        self.frame_width = int(self.video.get(cv2.CAP_PROP_FRAME_WIDTH))\n",
    "        self.frame_height = int(self.video.get(cv2.CAP_PROP_FRAME_HEIGHT))\n",
    "        #self.frame_rate = self.video.get(cv2.CAP_PROP_FPS)\n",
    "        self.frame_rate = 30\n",
    "        self.duration = int(duration_second * self.frame_rate)\n",
    "\n",
    "    # 目的のフレーム番号から指定した秒数だけ抜き出して保存する\n",
    "    def extract(self, target_frame):\n",
    "        self.video.set(1, target_frame)\n",
    "        video_writer = cv2.VideoWriter(\n",
    "            self.target_dir + self.movie_file.replace('.mp4', '').split('/')[-1] + '_' + str(target_frame) + '.mp4',\n",
    "            self.fourcc,\n",
    "            self.frame_rate,\n",
    "            (self.frame_width, self.frame_height))\n",
    "        for _ in range(self.duration):\n",
    "            is_capturing, frame = self.video.read()\n",
    "            frame_num = self.video.get(1)\n",
    "            if is_capturing:\n",
    "                \n",
    "                img = Image.fromarray(np.uint8(frame[:,:,:])).resize((input_shape[0], input_shape[1]))\n",
    "                img = np.asarray(img)\n",
    "                img = img[np.newaxis, :, :, :]\n",
    "                pred = model.predict(img / 255.0)[0][0]\n",
    "                max_force = np.max(force)\n",
    "                force_meter = pred / max_force\n",
    "\n",
    "                if pred > 3:\n",
    "                    color = (0,0,255)\n",
    "                elif pred > 1.5:\n",
    "                    color = (0,255,0)\n",
    "                else:\n",
    "                    color = (255,0,0)\n",
    "                dst = cv2.rectangle(frame,\n",
    "                                    (int(frame.shape[1]*0.85), int(frame.shape[0]*(-0.6*force_meter+0.8))),\n",
    "                                    (int(frame.shape[1]*0.9), int(frame.shape[0]*0.8)),\n",
    "                                    color, -1)\n",
    "                dst = cv2.putText(dst, str(np.round(pred, 3)),\n",
    "                                  (int(frame.shape[1]*0.85), int(frame.shape[0]*(-0.6*force_meter+0.78))),\n",
    "                                  font, 1, color, 2, cv2.LINE_AA)\n",
    "                dst = cv2.putText(dst, str(int(frame_num)),\n",
    "                                  (int(frame.shape[1]*0.85), int(frame.shape[0]*0.85)),\n",
    "                                  font, 1, (255,255,255), 2, cv2.LINE_AA)\n",
    "                \n",
    "                video_writer.write(dst)\n",
    "                sys.stdout.write(\"\\r%d%s%d\" % (frame_num, ' / ', max_frame))\n",
    "                sys.stdout.flush()\n",
    "            else:\n",
    "                print('the end of video')"
   ]
  },
  {
   "cell_type": "code",
   "execution_count": 71,
   "metadata": {},
   "outputs": [],
   "source": [
    "ProcessSurgeryMovie = MovieProcess('./dataset/movie.mp4', './dataset/preds/', duration_second=100)"
   ]
  },
  {
   "cell_type": "code",
   "execution_count": 74,
   "metadata": {},
   "outputs": [
    {
     "name": "stdout",
     "output_type": "stream",
     "text": [
      "21990 / 69821"
     ]
    }
   ],
   "source": [
    "ProcessSurgeryMovie.extract(target_frame=18990)"
   ]
  },
  {
   "cell_type": "code",
   "execution_count": null,
   "metadata": {},
   "outputs": [],
   "source": []
  }
 ],
 "metadata": {
  "kernelspec": {
   "display_name": "Python 3",
   "language": "python",
   "name": "python3"
  },
  "language_info": {
   "codemirror_mode": {
    "name": "ipython",
    "version": 3
   },
   "file_extension": ".py",
   "mimetype": "text/x-python",
   "name": "python",
   "nbconvert_exporter": "python",
   "pygments_lexer": "ipython3",
   "version": "3.6.4"
  }
 },
 "nbformat": 4,
 "nbformat_minor": 2
}
