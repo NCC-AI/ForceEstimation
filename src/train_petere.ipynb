{
 "cells": [
  {
   "cell_type": "code",
   "execution_count": 1,
   "metadata": {},
   "outputs": [
    {
     "name": "stderr",
     "output_type": "stream",
     "text": [
      "Using TensorFlow backend.\n"
     ]
    }
   ],
   "source": [
    "import sys\n",
    "import os\n",
    "import csv\n",
    "import random\n",
    "from keras.layers import *\n",
    "from keras.optimizers import *\n",
    "from keras.applications import *\n",
    "from keras.models import Model\n",
    "from keras.preprocessing.image import ImageDataGenerator\n",
    "from keras.callbacks import ModelCheckpoint, EarlyStopping\n",
    "from keras import backend as k\n",
    "from keras.preprocessing.image import load_img, img_to_array\n",
    "from keras import backend as K\n",
    "import tensorflow as tf\n",
    "from keras.backend.tensorflow_backend import set_session\n",
    "from force_utils import DataProcessing"
   ]
  },
  {
   "cell_type": "code",
   "execution_count": 16,
   "metadata": {},
   "outputs": [],
   "source": [
    "# -------------------------------------------------------------------------------------\n",
    "# DATASET\n",
    "# -------------------------------------------------------------------------------------\n",
    "\n",
    "# Input\n",
    "x_train = np.load('./dataset/features/vgg16_train.npy')\n",
    "x_test = np.load('./dataset/features/vgg16_val.npy')\n",
    "\n",
    "\n",
    "# Target\n",
    "video_file = 'dataset/video.mp4'\n",
    "csv_file = 'dataset/forceinfo.csv'\n",
    "dataset = DataProcessing(video_file, csv_file, p=True, f=True, name=False)\n",
    "\n",
    "# Split train and validation\n",
    "keys = list(dataset.p_dict.keys())\n",
    "values = list(dataset.p_dict.values())\n",
    "train_num = int(round(0.8 * len(keys)))\n",
    "\n",
    "# Adjust to Input shape\n",
    "y_train = values[:train_num]\n",
    "for x in values[:30]:\n",
    "    y_train.append(x)\n",
    "y_train = np.array(y_train)\n",
    "\n",
    "y_test = values[train_num:]\n",
    "for x in values[train_num:][:8]:\n",
    "    y_test.append(x)\n",
    "y_test = np.array(y_test)"
   ]
  },
  {
   "cell_type": "code",
   "execution_count": 19,
   "metadata": {},
   "outputs": [],
   "source": [
    "# -------------------------------------------------------------------------------------\n",
    "# VARIABLE\n",
    "# -------------------------------------------------------------------------------------\n",
    "\n",
    "input_shape = (299, 299, 3)\n",
    "batch_size = 32\n",
    "epochs = 30\n",
    "learning_rate = 0.01"
   ]
  },
  {
   "cell_type": "code",
   "execution_count": 20,
   "metadata": {},
   "outputs": [],
   "source": [
    "# -------------------------------------------------------------------------------------\n",
    "# MODEL\n",
    "# -------------------------------------------------------------------------------------\n",
    "\n",
    "input_tensor = Input(shape=x_train.shape[1:])\n",
    "x = Flatten(input_shape=x_train.shape[1:])(input_tensor)\n",
    "x = Dense(512, activation='relu')(x)\n",
    "x = Dense(256, activation='relu')(x)\n",
    "x = Dropout(0.5)(x)\n",
    "prediction = Dense(1)(x)\n",
    "model = Model(inputs=input_tensor, outputs=prediction)"
   ]
  },
  {
   "cell_type": "code",
   "execution_count": 21,
   "metadata": {},
   "outputs": [],
   "source": [
    "# -------------------------------------------------------------------------------------\n",
    "# COMPILE\n",
    "# -------------------------------------------------------------------------------------\n",
    "\n",
    "# Optimizer\n",
    "optim = RMSprop(lr=0.001, rho=0.9, epsilon=None, decay=0.0)\n",
    "\n",
    "# Learning rate scheduler\n",
    "def schedule(epoch, decay=0.9):\n",
    "    return learning_rate * decay**(epoch)\n",
    "\n",
    "# Callbacks\n",
    "callbacks = [\n",
    "    ModelCheckpoint('dataset/weights/p_npy_mae_{epoch:02d}.h5', monitor='val_loss', verbose=1, save_best_only=True),\n",
    "    EarlyStopping(monitor='val_loss', min_delta=0, patience=5, verbose=1, mode='auto')]\n",
    "    # LearningRateScheduler(schedule)]\n",
    "\n",
    "# Compile\n",
    "model.compile(optimizer=optim, loss='mean_absolute_error')"
   ]
  },
  {
   "cell_type": "code",
   "execution_count": 22,
   "metadata": {},
   "outputs": [
    {
     "name": "stdout",
     "output_type": "stream",
     "text": [
      "Train on 45312 samples, validate on 11328 samples\n",
      "Epoch 1/30\n",
      "45312/45312 [==============================] - 20s 444us/step - loss: 0.3327 - val_loss: 0.1023\n",
      "\n",
      "Epoch 00001: val_loss improved from inf to 0.10231, saving model to dataset/weights/p_npy_mae_01.h5\n",
      "Epoch 2/30\n",
      "45312/45312 [==============================] - 19s 412us/step - loss: 0.1590 - val_loss: 0.1024\n",
      "\n",
      "Epoch 00002: val_loss did not improve from 0.10231\n",
      "Epoch 3/30\n",
      "45312/45312 [==============================] - 19s 414us/step - loss: 0.1582 - val_loss: 0.1039\n",
      "\n",
      "Epoch 00003: val_loss did not improve from 0.10231\n",
      "Epoch 4/30\n",
      "45312/45312 [==============================] - 19s 413us/step - loss: 0.1578 - val_loss: 0.1020\n",
      "\n",
      "Epoch 00004: val_loss improved from 0.10231 to 0.10198, saving model to dataset/weights/p_npy_mae_04.h5\n",
      "Epoch 5/30\n",
      "45312/45312 [==============================] - 19s 412us/step - loss: 0.1576 - val_loss: 0.1028\n",
      "\n",
      "Epoch 00005: val_loss did not improve from 0.10198\n",
      "Epoch 6/30\n",
      "45312/45312 [==============================] - 18s 406us/step - loss: 0.1576 - val_loss: 0.1029\n",
      "\n",
      "Epoch 00006: val_loss did not improve from 0.10198\n",
      "Epoch 7/30\n",
      "45312/45312 [==============================] - 19s 414us/step - loss: 0.1575 - val_loss: 0.1021\n",
      "\n",
      "Epoch 00007: val_loss did not improve from 0.10198\n",
      "Epoch 8/30\n",
      "45312/45312 [==============================] - 19s 413us/step - loss: 0.1575 - val_loss: 0.1028\n",
      "\n",
      "Epoch 00008: val_loss did not improve from 0.10198\n",
      "Epoch 9/30\n",
      "45312/45312 [==============================] - 19s 413us/step - loss: 0.1575 - val_loss: 0.1028\n",
      "\n",
      "Epoch 00009: val_loss did not improve from 0.10198\n",
      "Epoch 00009: early stopping\n"
     ]
    }
   ],
   "source": [
    "# -------------------------------------------------------------------------------------\n",
    "# FIT\n",
    "# -------------------------------------------------------------------------------------\n",
    "\n",
    "history = model.fit(\n",
    "    x_train, y_train,\n",
    "    batch_size=batch_size,\n",
    "    epochs=epochs,\n",
    "    callbacks=callbacks,\n",
    "    validation_data=(x_test, y_test)\n",
    ")"
   ]
  },
  {
   "cell_type": "code",
   "execution_count": null,
   "metadata": {},
   "outputs": [],
   "source": []
  }
 ],
 "metadata": {
  "kernelspec": {
   "display_name": "Python 3",
   "language": "python",
   "name": "python3"
  },
  "language_info": {
   "codemirror_mode": {
    "name": "ipython",
    "version": 3
   },
   "file_extension": ".py",
   "mimetype": "text/x-python",
   "name": "python",
   "nbconvert_exporter": "python",
   "pygments_lexer": "ipython3",
   "version": "3.6.4"
  }
 },
 "nbformat": 4,
 "nbformat_minor": 2
}
